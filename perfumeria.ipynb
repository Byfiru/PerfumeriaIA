{
 "cells": [
  {
   "cell_type": "code",
   "execution_count": 49,
   "id": "d50c7e2c",
   "metadata": {},
   "outputs": [
    {
     "name": "stdout",
     "output_type": "stream",
     "text": [
      "(24063, 18)\n"
     ]
    }
   ],
   "source": [
    "import pandas as pd \n",
    "import numpy as np \n",
    "import matplotlib.pyplot as plt\n",
    "import seaborn as sns\n",
    "\n",
    "\n",
    "#==================================\n",
    "# 1. Carga del Dataset\n",
    "#==================================\n",
    "\n",
    "\n",
    "#Debido a que el csv tenia \"\";\" , \"\",\"\" y otros simbolos que causaban que no se pudiese analizar, se filtra\n",
    "data = pd.read_csv(\n",
    "    \"fra_cleaned.csv\",\n",
    "    sep=\";\",\n",
    "    encoding=\"latin1\",\n",
    "    quotechar='\"',\n",
    "    engine=\"python\",\n",
    ")\n",
    "data.head()\n",
    "print(data.shape)"
   ]
  },
  {
   "cell_type": "code",
   "execution_count": 50,
   "id": "9e75ba57",
   "metadata": {},
   "outputs": [
    {
     "data": {
      "text/html": [
       "<div>\n",
       "<style scoped>\n",
       "    .dataframe tbody tr th:only-of-type {\n",
       "        vertical-align: middle;\n",
       "    }\n",
       "\n",
       "    .dataframe tbody tr th {\n",
       "        vertical-align: top;\n",
       "    }\n",
       "\n",
       "    .dataframe thead th {\n",
       "        text-align: right;\n",
       "    }\n",
       "</style>\n",
       "<table border=\"1\" class=\"dataframe\">\n",
       "  <thead>\n",
       "    <tr style=\"text-align: right;\">\n",
       "      <th></th>\n",
       "      <th>Perfume</th>\n",
       "      <th>Brand</th>\n",
       "      <th>Gender</th>\n",
       "      <th>Rating Value</th>\n",
       "      <th>Rating Count</th>\n",
       "      <th>Top</th>\n",
       "      <th>Middle</th>\n",
       "      <th>Base</th>\n",
       "      <th>mainaccord1</th>\n",
       "      <th>mainaccord2</th>\n",
       "      <th>mainaccord3</th>\n",
       "      <th>mainaccord4</th>\n",
       "      <th>mainaccord5</th>\n",
       "    </tr>\n",
       "  </thead>\n",
       "  <tbody>\n",
       "    <tr>\n",
       "      <th>0</th>\n",
       "      <td>accento-overdose-pride-edition</td>\n",
       "      <td>xerjoff</td>\n",
       "      <td>unisex</td>\n",
       "      <td>1,42</td>\n",
       "      <td>201</td>\n",
       "      <td>fruity notes, aldehydes, green notes</td>\n",
       "      <td>bulgarian rose, egyptian jasmine, lily-of-the-...</td>\n",
       "      <td>eucalyptus, pine</td>\n",
       "      <td>rose</td>\n",
       "      <td>woody</td>\n",
       "      <td>fruity</td>\n",
       "      <td>aromatic</td>\n",
       "      <td>floral</td>\n",
       "    </tr>\n",
       "    <tr>\n",
       "      <th>1</th>\n",
       "      <td>classique-pride-2024</td>\n",
       "      <td>jean-paul-gaultier</td>\n",
       "      <td>women</td>\n",
       "      <td>1,86</td>\n",
       "      <td>70</td>\n",
       "      <td>yuzu, citruses</td>\n",
       "      <td>orange blossom, neroli</td>\n",
       "      <td>musk, blonde woods</td>\n",
       "      <td>citrus</td>\n",
       "      <td>white floral</td>\n",
       "      <td>sweet</td>\n",
       "      <td>fresh</td>\n",
       "      <td>musky</td>\n",
       "    </tr>\n",
       "    <tr>\n",
       "      <th>2</th>\n",
       "      <td>classique-pride-2023</td>\n",
       "      <td>jean-paul-gaultier</td>\n",
       "      <td>unisex</td>\n",
       "      <td>1,91</td>\n",
       "      <td>285</td>\n",
       "      <td>blood orange, yuzu</td>\n",
       "      <td>neroli, orange blossom</td>\n",
       "      <td>musk, white woods</td>\n",
       "      <td>citrus</td>\n",
       "      <td>white floral</td>\n",
       "      <td>sweet</td>\n",
       "      <td>fresh spicy</td>\n",
       "      <td>musky</td>\n",
       "    </tr>\n",
       "    <tr>\n",
       "      <th>3</th>\n",
       "      <td>pride-edition-man</td>\n",
       "      <td>bruno-banani</td>\n",
       "      <td>men</td>\n",
       "      <td>1,92</td>\n",
       "      <td>59</td>\n",
       "      <td>guarana, grapefruit, red apple</td>\n",
       "      <td>walnut, lavender, guava</td>\n",
       "      <td>vetiver, benzoin, amber</td>\n",
       "      <td>fruity</td>\n",
       "      <td>nutty</td>\n",
       "      <td>woody</td>\n",
       "      <td>tropical</td>\n",
       "      <td>NaN</td>\n",
       "    </tr>\n",
       "    <tr>\n",
       "      <th>4</th>\n",
       "      <td>le-male-pride-collector</td>\n",
       "      <td>jean-paul-gaultier</td>\n",
       "      <td>men</td>\n",
       "      <td>1,93</td>\n",
       "      <td>632</td>\n",
       "      <td>mint, lavender, cardamom, artemisia, bergamot</td>\n",
       "      <td>caraway, cinnamon, orange blossom</td>\n",
       "      <td>vanilla, sandalwood, amber, cedar, tonka bean</td>\n",
       "      <td>aromatic</td>\n",
       "      <td>warm spicy</td>\n",
       "      <td>fresh spicy</td>\n",
       "      <td>cinnamon</td>\n",
       "      <td>vanilla</td>\n",
       "    </tr>\n",
       "  </tbody>\n",
       "</table>\n",
       "</div>"
      ],
      "text/plain": [
       "                          Perfume               Brand  Gender Rating Value  \\\n",
       "0  accento-overdose-pride-edition             xerjoff  unisex         1,42   \n",
       "1            classique-pride-2024  jean-paul-gaultier   women         1,86   \n",
       "2            classique-pride-2023  jean-paul-gaultier  unisex         1,91   \n",
       "3               pride-edition-man        bruno-banani     men         1,92   \n",
       "4         le-male-pride-collector  jean-paul-gaultier     men         1,93   \n",
       "\n",
       "   Rating Count                                            Top  \\\n",
       "0           201           fruity notes, aldehydes, green notes   \n",
       "1            70                                 yuzu, citruses   \n",
       "2           285                             blood orange, yuzu   \n",
       "3            59                 guarana, grapefruit, red apple   \n",
       "4           632  mint, lavender, cardamom, artemisia, bergamot   \n",
       "\n",
       "                                              Middle  \\\n",
       "0  bulgarian rose, egyptian jasmine, lily-of-the-...   \n",
       "1                             orange blossom, neroli   \n",
       "2                             neroli, orange blossom   \n",
       "3                            walnut, lavender, guava   \n",
       "4                  caraway, cinnamon, orange blossom   \n",
       "\n",
       "                                            Base mainaccord1   mainaccord2  \\\n",
       "0                               eucalyptus, pine        rose         woody   \n",
       "1                             musk, blonde woods      citrus  white floral   \n",
       "2                              musk, white woods      citrus  white floral   \n",
       "3                        vetiver, benzoin, amber      fruity         nutty   \n",
       "4  vanilla, sandalwood, amber, cedar, tonka bean    aromatic    warm spicy   \n",
       "\n",
       "   mainaccord3  mainaccord4 mainaccord5  \n",
       "0       fruity     aromatic      floral  \n",
       "1        sweet        fresh       musky  \n",
       "2        sweet  fresh spicy       musky  \n",
       "3        woody     tropical         NaN  \n",
       "4  fresh spicy     cinnamon     vanilla  "
      ]
     },
     "execution_count": 50,
     "metadata": {},
     "output_type": "execute_result"
    }
   ],
   "source": [
    "#Eliminamos de antemano columnas que no seran utiles para el estudio\n",
    "data= data.drop(columns=[\"url\", \"Country\", \"Year\", \"Perfumer1\", \"Perfumer2\"])\n",
    "data.head()"
   ]
  },
  {
   "cell_type": "code",
   "execution_count": 51,
   "id": "0458f5b1",
   "metadata": {},
   "outputs": [
    {
     "name": "stdout",
     "output_type": "stream",
     "text": [
      "Número de perfumes: 24063\n",
      "Columnas: ['Perfume', 'Brand', 'Gender', 'Rating Value', 'Rating Count', 'Top', 'Middle', 'Base', 'mainaccord1', 'mainaccord2', 'mainaccord3', 'mainaccord4', 'mainaccord5']\n"
     ]
    }
   ],
   "source": [
    "#==================================\n",
    "# 2. Analisis explorativo\n",
    "#================================\n",
    "\n",
    "print(\"Número de perfumes:\", data.shape[0])\n",
    "print(\"Columnas:\", data.columns.tolist())"
   ]
  },
  {
   "cell_type": "code",
   "execution_count": 52,
   "id": "c4359c4d",
   "metadata": {},
   "outputs": [
    {
     "name": "stdout",
     "output_type": "stream",
     "text": [
      "Perfume           0\n",
      "Brand             0\n",
      "Gender            0\n",
      "Rating Value      0\n",
      "Rating Count      0\n",
      "Top               0\n",
      "Middle            0\n",
      "Base              0\n",
      "mainaccord1       0\n",
      "mainaccord2      13\n",
      "mainaccord3     114\n",
      "mainaccord4     388\n",
      "mainaccord5     981\n",
      "dtype: int64\n"
     ]
    }
   ],
   "source": [
    "print(data.isnull().sum())\n"
   ]
  },
  {
   "cell_type": "code",
   "execution_count": 53,
   "id": "2a5e0057",
   "metadata": {},
   "outputs": [],
   "source": [
    "data = data.dropna()"
   ]
  },
  {
   "cell_type": "code",
   "execution_count": 54,
   "id": "50566d28",
   "metadata": {},
   "outputs": [
    {
     "name": "stdout",
     "output_type": "stream",
     "text": [
      "Perfume         object\n",
      "Brand           object\n",
      "Gender          object\n",
      "Rating Value    object\n",
      "Rating Count     int64\n",
      "Top             object\n",
      "Middle          object\n",
      "Base            object\n",
      "mainaccord1     object\n",
      "mainaccord2     object\n",
      "mainaccord3     object\n",
      "mainaccord4     object\n",
      "mainaccord5     object\n",
      "dtype: object\n"
     ]
    }
   ],
   "source": [
    "#Analizamos el tipo de datos de cada columna\n",
    "print(data.dtypes)"
   ]
  },
  {
   "cell_type": "markdown",
   "id": "002a27ba",
   "metadata": {},
   "source": [
    "La columna de estudio, es decir Rating Value, es de tipo \"object\", por lo que debe de transformarse a numerica "
   ]
  },
  {
   "cell_type": "code",
   "execution_count": 55,
   "id": "319d1e9f",
   "metadata": {},
   "outputs": [],
   "source": [
    "data[\"Rating Value\"] = data[\"Rating Value\"].str.replace(\",\",\".\", regex=False)\n",
    "data[\"Rating Value\"] = pd.to_numeric(data[\"Rating Value\"], errors= \"coerce\")"
   ]
  },
  {
   "cell_type": "code",
   "execution_count": 56,
   "id": "562cc134",
   "metadata": {},
   "outputs": [
    {
     "name": "stdout",
     "output_type": "stream",
     "text": [
      "Perfume          object\n",
      "Brand            object\n",
      "Gender           object\n",
      "Rating Value    float64\n",
      "Rating Count      int64\n",
      "Top              object\n",
      "Middle           object\n",
      "Base             object\n",
      "mainaccord1      object\n",
      "mainaccord2      object\n",
      "mainaccord3      object\n",
      "mainaccord4      object\n",
      "mainaccord5      object\n",
      "dtype: object\n"
     ]
    }
   ],
   "source": [
    "#Analizamos el tipo de datos de cada columna\n",
    "print(data.dtypes)"
   ]
  },
  {
   "cell_type": "code",
   "execution_count": 57,
   "id": "2a486dae",
   "metadata": {},
   "outputs": [
    {
     "name": "stdout",
     "output_type": "stream",
     "text": [
      "count    23082.000000\n",
      "mean         3.962008\n",
      "std          0.276461\n",
      "min          1.420000\n",
      "25%          3.790000\n",
      "50%          3.970000\n",
      "75%          4.150000\n",
      "max          4.930000\n",
      "Name: Rating Value, dtype: float64\n"
     ]
    },
    {
     "data": {
      "image/png": "[encoded data removed]",
      "text/plain": [
       "<Figure size 600x400 with 1 Axes>"
      ]
     },
     "metadata": {},
     "output_type": "display_data"
    }
   ],
   "source": [
    "print(data['Rating Value'].describe())\n",
    "\n",
    "# Distribución del rating\n",
    "plt.figure(figsize=(6, 4))\n",
    "sns.histplot(data['Rating Value'], bins=20, kde=True)\n",
    "plt.title(\"Distribución de ratings\")\n",
    "plt.xlabel(\"Rating\")\n",
    "plt.ylabel(\"Frecuencia\")\n",
    "plt.show()"
   ]
  },
  {
   "cell_type": "code",
   "execution_count": 58,
   "id": "a5400bed",
   "metadata": {},
   "outputs": [
    {
     "name": "stdout",
     "output_type": "stream",
     "text": [
      "count    23082.000000\n",
      "mean       504.780522\n",
      "std       1426.221716\n",
      "min         26.000000\n",
      "25%         56.000000\n",
      "50%        128.000000\n",
      "75%        364.000000\n",
      "max      29722.000000\n",
      "Name: Rating Count, dtype: float64\n"
     ]
    },
    {
     "data": {
      "image/png": "[encoded data removed]",
      "text/plain": [
       "<Figure size 600x400 with 1 Axes>"
      ]
     },
     "metadata": {},
     "output_type": "display_data"
    }
   ],
   "source": [
    "print(data['Rating Count'].describe())\n",
    "\n",
    "# Distribución del rating\n",
    "plt.figure(figsize=(6, 4))\n",
    "sns.histplot(data['Rating Count'], bins=20, kde=True)\n",
    "plt.title(\"Distribución de cantidad de votos\")\n",
    "plt.xlabel(\"Cantidad de votos\")\n",
    "plt.ylabel(\"Frecuencia\")\n",
    "plt.show()"
   ]
  },
  {
   "cell_type": "markdown",
   "id": "9000fefa",
   "metadata": {},
   "source": [
    "La cantidad de votantes promedio, varia considerablemente, por lo que se decidira por eliminar aquellos perfumes en los cuales la cantidad de votos sea inferior al primer cuartil"
   ]
  },
  {
   "cell_type": "code",
   "execution_count": 59,
   "id": "ff47ce6b",
   "metadata": {},
   "outputs": [],
   "source": [
    "min_votos = data['Rating Count'].quantile(0.25)\n",
    "data = data[data['Rating Count'] >= min_votos]"
   ]
  },
  {
   "cell_type": "code",
   "execution_count": 60,
   "id": "358b8dc2",
   "metadata": {},
   "outputs": [],
   "source": [
    "#===========================\n",
    "#3.Featuring engineering\n",
    "#==========================\n",
    "\n",
    "#Debido a que buscarmos relacionar las notas con las familias olfativas\n",
    "#Convertiremos los grupos de notas en listas y posteriormente asignaremos estas a cada familia olfativa\n",
    "\n",
    "from sklearn.preprocessing import MultiLabelBinarizer, OneHotEncoder\n",
    "#Procesar notas: convertir de string a lista\n",
    "def parse_notes(note_str):\n",
    "    return [note.strip() for note in note_str.strip(\"[]\").replace(\"'\", \"\").split(\",\")]\n",
    "\n",
    "data['All Notes'] = data['Top'].apply(parse_notes) + data['Middle'].apply(parse_notes) + data['Base'].apply(parse_notes)\n",
    "\n",
    "#Codificar notas (presencia/ausencia de cada nota)\n",
    "mlb = MultiLabelBinarizer()\n",
    "X_notes = pd.DataFrame(\n",
    "    mlb.fit_transform(data['All Notes']),\n",
    "    columns=mlb.classes_,\n",
    "    index=data.index\n",
    ")\n",
    "\n",
    "#Procesar familia olfativa: combinar las 5 columnas en una lista por fila\n",
    "def combine_families(row):\n",
    "    return [fam for fam in row if pd.notna(fam) and fam != '']\n",
    "\n",
    "familias = data[['mainaccord1', 'mainaccord2', 'mainaccord3', 'mainaccord4', 'mainaccord5']].apply(combine_families, axis=1)\n",
    "\n",
    "#Codificar familias olfativas (presencia/ausencia)\n",
    "mlb_familias = MultiLabelBinarizer()\n",
    "X_familias = pd.DataFrame(\n",
    "    mlb_familias.fit_transform(familias),\n",
    "    columns=mlb_familias.classes_,\n",
    "    index=data.index\n",
    ")\n"
   ]
  },
  {
   "cell_type": "code",
   "execution_count": 61,
   "id": "2b926fe8",
   "metadata": {},
   "outputs": [],
   "source": [
    "# ================================================\n",
    "# 4. Division de datos en Entrenamiento y Prueba\n",
    "# ================================================\n",
    "\n",
    "from sklearn.model_selection import train_test_split, cross_val_score\n",
    "from sklearn.ensemble import RandomForestRegressor\n",
    "from sklearn.metrics import mean_absolute_error, mean_squared_error, r2_score\n",
    "from sklearn.decomposition import PCA\n",
    "\n",
    "X = pd.concat([X_notes, X_familias], axis=1)\n",
    "y = pd.to_numeric(data['Rating Value'], errors='coerce')\n",
    "\n",
    "#Creacion conjunto de entrenamiento y prueba\n",
    "\n",
    "X_train, X_test, y_train, y_test = train_test_split(X, y, test_size=0.2, random_state=42)\n"
   ]
  },
  {
   "cell_type": "code",
   "execution_count": 62,
   "id": "6f0bd710",
   "metadata": {},
   "outputs": [],
   "source": [
    "# Entrenar modelo\n",
    "model = RandomForestRegressor(n_estimators=100, max_depth=12, random_state=42)\n",
    "model.fit(X_train, y_train)\n",
    "y_pred = model.predict(X_test)"
   ]
  },
  {
   "cell_type": "code",
   "execution_count": 63,
   "id": "d5a652ed",
   "metadata": {},
   "outputs": [
    {
     "name": "stdout",
     "output_type": "stream",
     "text": [
      "MAE: 0.190\n",
      "RMSE: 0.248\n",
      "R²: 0.096\n"
     ]
    }
   ],
   "source": [
    "#=========================\n",
    "#5.Evaluacion y metricas\n",
    "#=========================\n",
    "\n",
    "mae = mean_absolute_error(y_test, y_pred)\n",
    "rmse = np.sqrt(mean_squared_error(y_test, y_pred))\n",
    "r2 = r2_score(y_test, y_pred)\n",
    "\n",
    "print(f\"MAE: {mae:.3f}\")\n",
    "print(f\"RMSE: {rmse:.3f}\")\n",
    "print(f\"R²: {r2:.3f}\")"
   ]
  },
  {
   "cell_type": "code",
   "execution_count": 66,
   "id": "ee4a266e",
   "metadata": {},
   "outputs": [
    {
     "data": {
      "image/png": "[encoded data removed]",
      "text/plain": [
       "<Figure size 1000x600 with 1 Axes>"
      ]
     },
     "metadata": {},
     "output_type": "display_data"
    }
   ],
   "source": [
    "#==================================\n",
    "#6. Analisis y visualizacion de notas\n",
    "#==================================\n",
    "\n",
    "importances = pd.Series(model.feature_importances_, index=X.columns)\n",
    "top_features = importances.sort_values(ascending=False).head(20)\n",
    "\n",
    "plt.figure(figsize=(10, 6))\n",
    "top_features.plot(kind='barh')\n",
    "plt.title(\"Top 20 características más importantes\")\n",
    "plt.xlabel(\"Importancia\")\n",
    "plt.gca().invert_yaxis()\n",
    "plt.tight_layout()\n",
    "plt.show()"
   ]
  }
 ],
 "metadata": {
  "kernelspec": {
   "display_name": "practice_env",
   "language": "python",
   "name": "python3"
  },
  "language_info": {
   "codemirror_mode": {
    "name": "ipython",
    "version": 3
   },
   "file_extension": ".py",
   "mimetype": "text/x-python",
   "name": "python",
   "nbconvert_exporter": "python",
   "pygments_lexer": "ipython3",
   "version": "3.10.16"
  }
 },
 "nbformat": 4,
 "nbformat_minor": 5
}
